{
  "nbformat": 4,
  "nbformat_minor": 0,
  "metadata": {
    "colab": {
      "provenance": []
    },
    "kernelspec": {
      "name": "ir",
      "display_name": "R"
    },
    "language_info": {
      "name": "R"
    }
  },
  "cells": [
    {
      "cell_type": "code",
      "execution_count": null,
      "metadata": {
        "id": "0FdOYe3NXAgr"
      },
      "outputs": [],
      "source": [
        "data <- data[complete.cases(data$average), ] # HIGHLIGHT(#ffcccc)​"
      ]
    },
    {
      "cell_type": "code",
      "source": [
        "summary(data) # HIGHLIGHT(#ffcccc)​"
      ],
      "metadata": {
        "id": "CDITrUKEXLjx"
      },
      "execution_count": null,
      "outputs": []
    },
    {
      "cell_type": "code",
      "source": [
        "nrow(data) # HIGHLIGHT(#ffcccc)​"
      ],
      "metadata": {
        "id": "bJn8_oNtXNUI"
      },
      "execution_count": null,
      "outputs": []
    }
  ]
}